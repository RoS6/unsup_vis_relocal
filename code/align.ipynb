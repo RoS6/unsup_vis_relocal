{
 "cells": [
  {
   "cell_type": "code",
   "execution_count": 3,
   "metadata": {},
   "outputs": [],
   "source": [
    "import torch\n",
    "import math\n",
    "import matplotlib.pyplot as plt\n",
    "from plyfile import PlyData"
   ]
  },
  {
   "cell_type": "code",
   "execution_count": 4,
   "metadata": {},
   "outputs": [],
   "source": [
    "import math"
   ]
  },
  {
   "cell_type": "code",
   "execution_count": 3,
   "metadata": {},
   "outputs": [],
   "source": [
    "import numpy as np"
   ]
  },
  {
   "cell_type": "code",
   "execution_count": 4,
   "metadata": {},
   "outputs": [],
   "source": [
    "data = PlyData.read('bunny/reconstruction/bun_zipper_res3.ply')\n",
    "points = torch.stack([\n",
    "    torch.from_numpy(data.elements[0][axis])\n",
    "    for axis in ['x', 'y', 'z']\n",
    "]).T.unsqueeze(-1)\n",
    "\n",
    "points = points - points.mean(dim=0)"
   ]
  },
  {
   "cell_type": "code",
   "execution_count": 5,
   "metadata": {},
   "outputs": [
    {
     "data": {
      "text/plain": [
       "torch.Size([1889, 3, 1])"
      ]
     },
     "execution_count": 5,
     "metadata": {},
     "output_type": "execute_result"
    }
   ],
   "source": [
    "points.shape"
   ]
  },
  {
   "cell_type": "markdown",
   "metadata": {},
   "source": [
    "Setting Extrinsitc Camera parameter\n",
    "\n",
    "Define world coordinate system: \n",
    "$\\Omega$ 3x3 rotational matrix  and $\\tau$ 3x1 translation vector"
   ]
  },
  {
   "cell_type": "code",
   "execution_count": 6,
   "metadata": {},
   "outputs": [],
   "source": [
    "theta = torch.rand(1) * math.pi / 2 #why divide by 2?\n",
    "phi = torch.rand(1) * 2 * math.pi\n",
    "\n",
    "camera_Rx = torch.tensor([\n",
    "    [1,                0,                 0],\n",
    "    [0, torch.cos(theta), -torch.sin(theta)],\n",
    "    [0, torch.sin(theta),  torch.cos(theta)],\n",
    "])\n",
    "camera_Ry = torch.tensor([\n",
    "    [ torch.cos(phi), 0, torch.sin(phi)],\n",
    "    [              0, 1,              0],\n",
    "    [-torch.sin(phi), 0, torch.cos(phi)],\n",
    "])\n",
    "\n",
    "camera_R = camera_Rx@camera_Ry\n",
    "camera_t = torch.tensor([[0],[0],[0.2]])"
   ]
  },
  {
   "cell_type": "markdown",
   "metadata": {},
   "source": [
    "$w' = \\Omega w + \\tau $ "
   ]
  },
  {
   "cell_type": "code",
   "execution_count": 7,
   "metadata": {},
   "outputs": [],
   "source": [
    "camera_points = camera_R@points + camera_t"
   ]
  },
  {
   "cell_type": "markdown",
   "metadata": {},
   "source": [
    "intrinsic camera parameters\n",
    "\n",
    "\\begin{bmatrix}\n",
    "\\phi_x & \\gamma & \\delta_x \\\\\n",
    "0 & \\phi_y & \\delta_y\\\\\n",
    "0 & 0 &  1\n",
    "\n",
    "\\end{bmatrix}\n",
    "\n",
    "$\\phi$ is focal length param, $\\delta$ is offset param, $\\gamma$ is skew term\n",
    "\n",
    "\n"
   ]
  },
  {
   "cell_type": "code",
   "execution_count": null,
   "metadata": {},
   "outputs": [],
   "source": [
    "def distort(beta1, beta2, points):\n",
    "  x = points[:,0,:]\n",
    "  y = points[:,1,:]\n",
    "\n",
    "  r2 = x**2 + y**2\n",
    "  r4 = r2**2\n",
    "\n",
    "  distort_x = x*(1+ beta1*r2+beta2*r4)\n",
    "  distort_y = y*(1+ beta1*r2+beta2*r4)\n",
    "\n",
    "  return torch.cat(distort_x, distort_y ,dim = 1)"
   ]
  },
  {
   "cell_type": "code",
   "execution_count": 8,
   "metadata": {},
   "outputs": [],
   "source": [
    "camera_K = torch.tensor([\n",
    "    [1.0, 2.0, 0.0],\n",
    "    [0.0, 1.0, 0.0],\n",
    "    [0.0, 0.0, 1.0],\n",
    "])\n",
    "\n",
    "projected_points = (camera_K@camera_points)\n",
    "projected_points = projected_points[:,:-1,:]/(projected_points[:,-1,:].unsqueeze(1))\n",
    "#divide by w"
   ]
  },
  {
   "cell_type": "code",
   "execution_count": 9,
   "metadata": {},
   "outputs": [
    {
     "data": {
      "text/plain": [
       "torch.Size([1889, 2, 1])"
      ]
     },
     "execution_count": 9,
     "metadata": {},
     "output_type": "execute_result"
    }
   ],
   "source": [
    "projected_points.shape"
   ]
  },
  {
   "cell_type": "code",
   "execution_count": 11,
   "metadata": {},
   "outputs": [
    {
     "ename": "",
     "evalue": "",
     "output_type": "error",
     "traceback": [
      "\u001b[1;31mCanceled future for execute_request message before replies were done"
     ]
    },
    {
     "ename": "",
     "evalue": "",
     "output_type": "error",
     "traceback": [
      "\u001b[1;31mThe Kernel crashed while executing code in the the current cell or a previous cell. Please review the code in the cell(s) to identify a possible cause of the failure. Click <a href='https://aka.ms/vscodeJupyterKernelCrash'>here</a> for more info. View Jupyter <a href='command:jupyter.viewOutput'>log</a> for further details."
     ]
    }
   ],
   "source": [
    "xpoints = projected_points[:100,0].squeeze()\n",
    "ypoints = projected_points[:100,1].squeeze()\n",
    "plt.scatter(xpoints,ypoints)\n",
    "\n",
    "# ax.scatter(points_x, points_y, s=0.1)\n",
    "# ax.set_xlim((-1, 1))\n",
    "# ax.set_ylim((-1, 1))\n",
    "# ax.set_axis_off()\n",
    "# ax.set_aspect(1)"
   ]
  },
  {
   "cell_type": "code",
   "execution_count": 20,
   "metadata": {},
   "outputs": [
    {
     "data": {
      "text/plain": [
       "torch.Size([1889])"
      ]
     },
     "execution_count": 20,
     "metadata": {},
     "output_type": "execute_result"
    }
   ],
   "source": [
    "xpoints.shape"
   ]
  },
  {
   "cell_type": "code",
   "execution_count": 12,
   "metadata": {},
   "outputs": [
    {
     "data": {
      "text/plain": [
       "torch.Size([1889, 2, 1])"
      ]
     },
     "execution_count": 12,
     "metadata": {},
     "output_type": "execute_result"
    }
   ],
   "source": [
    "projected_points.shape"
   ]
  },
  {
   "cell_type": "code",
   "execution_count": null,
   "metadata": {},
   "outputs": [],
   "source": []
  },
  {
   "cell_type": "code",
   "execution_count": null,
   "metadata": {},
   "outputs": [],
   "source": []
  },
  {
   "cell_type": "code",
   "execution_count": 13,
   "metadata": {},
   "outputs": [
    {
     "data": {
      "text/plain": [
       "torch.Size([1889, 3, 1])"
      ]
     },
     "execution_count": 13,
     "metadata": {},
     "output_type": "execute_result"
    }
   ],
   "source": [
    "camera_points.shape"
   ]
  },
  {
   "cell_type": "code",
   "execution_count": 14,
   "metadata": {},
   "outputs": [
    {
     "data": {
      "text/plain": [
       "torch.Size([3, 3])"
      ]
     },
     "execution_count": 14,
     "metadata": {},
     "output_type": "execute_result"
    }
   ],
   "source": [
    "camera_K.shape"
   ]
  },
  {
   "cell_type": "code",
   "execution_count": 15,
   "metadata": {},
   "outputs": [
    {
     "data": {
      "text/plain": [
       "tensor([[1., 2., 0.],\n",
       "        [0., 1., 0.],\n",
       "        [0., 0., 1.]])"
      ]
     },
     "execution_count": 15,
     "metadata": {},
     "output_type": "execute_result"
    }
   ],
   "source": [
    "camera_K"
   ]
  },
  {
   "cell_type": "code",
   "execution_count": 16,
   "metadata": {},
   "outputs": [
    {
     "data": {
      "text/plain": [
       "tensor([[0.5000, 1.0000, 0.0000],\n",
       "        [0.0000, 0.5000, 0.0000]])"
      ]
     },
     "execution_count": 16,
     "metadata": {},
     "output_type": "execute_result"
    }
   ],
   "source": [
    "camera_K[...,:-1,:]/torch.tensor([2,2,2])"
   ]
  },
  {
   "cell_type": "code",
   "execution_count": null,
   "metadata": {},
   "outputs": [],
   "source": []
  },
  {
   "cell_type": "code",
   "execution_count": null,
   "metadata": {},
   "outputs": [],
   "source": []
  }
 ],
 "metadata": {
  "kernelspec": {
   "display_name": "Python 3.8.13 ('fyp')",
   "language": "python",
   "name": "python3"
  },
  "language_info": {
   "codemirror_mode": {
    "name": "ipython",
    "version": 3
   },
   "file_extension": ".py",
   "mimetype": "text/x-python",
   "name": "python",
   "nbconvert_exporter": "python",
   "pygments_lexer": "ipython3",
   "version": "3.8.13"
  },
  "orig_nbformat": 4,
  "vscode": {
   "interpreter": {
    "hash": "92e853dbaceed3088030898fb8081c1c7a38fe0d9e4ab9e36a77882e6958d054"
   }
  }
 },
 "nbformat": 4,
 "nbformat_minor": 2
}
