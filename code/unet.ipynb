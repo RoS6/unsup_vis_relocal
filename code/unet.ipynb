{
 "cells": [
  {
   "cell_type": "code",
   "execution_count": 2,
   "metadata": {},
   "outputs": [],
   "source": [
    "import torch\n",
    "import numpy as np\n",
    "import pandas as pd\n",
    "import glob\n",
    "import os\n",
    "from torch.utils.data import Dataset\n",
    "from torch.utils.data import DataLoader\n",
    "from torchvision.io import read_image \n",
    "from torchvision import datasets, models, transforms\n",
    "base_dir = '../dataset/MN_015_HH_01/MN_015_HH_01/handheld0/'"
   ]
  },
  {
   "cell_type": "code",
   "execution_count": 3,
   "metadata": {},
   "outputs": [],
   "source": [
    "import torchvision.models as models\n",
    "vgg = models.vgg16(pretrained=True)\n"
   ]
  },
  {
   "cell_type": "code",
   "execution_count": 4,
   "metadata": {},
   "outputs": [],
   "source": [
    "df = pd.read_csv((base_dir+\"cam0/\"+\"data.csv\"))\n",
    "# all_image_df = pd.DataFrame()\n",
    "# all_image_df['image'] = df['image']\n",
    "\n",
    "# all_img_df['key_id'] = all_img_df['path'].map(lambda x: splitext(os.path.basename(x))[0])\n",
    "# all_img_df['car_id'] = all_img_df['key_id'].map(lambda x: x.split('_')[0])\n",
    "# all_img_df['mask_path'] = all_img_df['path'].map(lambda x: x.replace('train', 'train_masks').replace('.jpg', '_mask.gif'))\n",
    "# all_img_df['exists'] = all_img_df['mask_path'].map(os.path.exists)\n",
    "# print(all_img_df['exists'].value_counts())\n",
    "# all_img_df.sample(3)\n"
   ]
  },
  {
   "cell_type": "code",
   "execution_count": 5,
   "metadata": {},
   "outputs": [],
   "source": [
    "#combine all possible 3 touple, 2 ref 1 query"
   ]
  },
  {
   "cell_type": "code",
   "execution_count": 20,
   "metadata": {},
   "outputs": [],
   "source": [
    "class OivioDataset(Dataset):\n",
    "    def __init__(self,annotations_file, img_dir, transform=None, target_transform=None):\n",
    "        self.img_labels = pd.read_csv(annotations_file)['filename']\n",
    "        self.img_dir = img_dir\n",
    "        self.transform = transform\n",
    "        self.target_transform = target_transform\n",
    "    def __len__(self):\n",
    "        return len(self.img_labels)\n",
    "    \n",
    "    def __getitem__(self, idx):\n",
    "        img_path = os.path.join(self.img_dir, self.img_labels[idx])\n",
    "        image = read_image(img_path)\n",
    "        label = self.img_labels[idx]\n",
    "        if self.transform:\n",
    "            image = self.transform(image)\n",
    "        if self.target_transform:\n",
    "            label = self.target_transform(label)\n",
    "        return image, label\n",
    "\n",
    "    \n"
   ]
  },
  {
   "cell_type": "code",
   "execution_count": 21,
   "metadata": {},
   "outputs": [],
   "source": [
    "dataset = OivioDataset(\"../dataset/MN_015_HH_01/MN_015_HH_01/handheld0/cam0/data.csv\",base_dir+\"cam0/data\",transform=transforms.Resize([224,224]), target_transform=None)"
   ]
  },
  {
   "cell_type": "code",
   "execution_count": 22,
   "metadata": {},
   "outputs": [],
   "source": [
    "dataloader = DataLoader(dataset, batch_size=16, shuffle=True, num_workers=4)"
   ]
  },
  {
   "cell_type": "code",
   "execution_count": 82,
   "metadata": {},
   "outputs": [],
   "source": [
    "# del vgg.classifier\n",
    "vgg.avgpool = torch.nn.Identity()\n",
    "vgg.features[30] = torch.nn.Identity()\n",
    "# print(vgg)"
   ]
  },
  {
   "cell_type": "code",
   "execution_count": 24,
   "metadata": {},
   "outputs": [],
   "source": [
    "for param in vgg.features:\n",
    "    param.requires_grad = False"
   ]
  },
  {
   "cell_type": "code",
   "execution_count": 83,
   "metadata": {},
   "outputs": [],
   "source": [
    "class Upsampling(torch.nn.Module):\n",
    "    def __init__(self, in_channels, out_channels, kernel_size=3, padding=0):\n",
    "        super(Upsampling, self).__init__()\n",
    "        # print(\"in_channels: \",in_channels)\n",
    "        # print(\"out_channels: \",out_channels)\n",
    "        self.in_channels = in_channels\n",
    "        self.out_channels = out_channels\n",
    "        self.upsample = torch.nn.Upsample(scale_factor=2, mode='bilinear', align_corners=True)\n",
    "                                     \n",
    "    def forward(self, x1,x2,final = False):\n",
    "        x1up = self.upsample(x1)\n",
    "        # print(\"x1up?: \",x1up.shape)\n",
    "        # print(\"x2.shape: \",x2.shape)\n",
    "        if x1up.shape != x2.shape:\n",
    "            x1up = torch.nn.functional.pad(x1up, (0, x2.shape[3] - x1up.shape[3], 0, x2.shape[2] - x1up.shape[2]))\n",
    "\n",
    "        x = torch.cat([x2, x1up], dim=1)\n",
    "        if final:\n",
    "            output= torch.nn.Sequential(torch.nn.Conv2d(64+17, 17, kernel_size= 2, padding= 0,stride=1),\n",
    "                                     torch.nn.BatchNorm2d(17),\n",
    "                                     torch.nn.ReLU(True),\n",
    "                                     \n",
    "                                     torch.nn.Conv2d(17,17, kernel_size=1, padding= 0,stride=1),\n",
    "                                     torch.nn.Sigmoid())(x)\n",
    "            return output\n",
    "        output = torch.nn.Sequential(torch.nn.Conv2d(self.in_channels, self.out_channels, kernel_size= 2, padding= 0,stride=1),\n",
    "                                     torch.nn.BatchNorm2d(self.out_channels),\n",
    "                                     torch.nn.ReLU(True),\n",
    "                                     \n",
    "                                     torch.nn.Conv2d(self.out_channels, self.out_channels, kernel_size= 2, padding= 0,stride=1),\n",
    "                                     torch.nn.BatchNorm2d(self.out_channels),\n",
    "                                     torch.nn.ReLU(True))(x)\n",
    "        \n",
    "\n",
    "        return output"
   ]
  },
  {
   "cell_type": "code",
   "execution_count": 84,
   "metadata": {},
   "outputs": [],
   "source": [
    "class UNet(torch.nn.Module):\n",
    "    def __init__(self, in_channels, out_channels):\n",
    "        super(UNet, self).__init__()\n",
    "        self.in_channels = in_channels\n",
    "        self.out_channels = out_channels\n",
    "\n",
    "        self.vgg = vgg\n",
    "\n",
    "        self.up_1 = Upsampling(1024, 17)\n",
    "        self.up_2 = Upsampling(256+17, 17)\n",
    "        self.up_3 = Upsampling(128+17, 17)\n",
    "        self.up_4 = Upsampling(64+17, 17)\n",
    "        # self.up_4 =\n",
    "        # self.outputs = LastConv(64+17, 17)\n",
    "    \n",
    "    def forward(self,x):\n",
    "        x1 = self.vgg.features[0:4](x)\n",
    "        x2 = self.vgg.features[4:9](x1)\n",
    "        x3 = self.vgg.features[9:16](x2)\n",
    "        x4 = self.vgg.features[16:23](x3)\n",
    "        x5 = self.vgg.features[23:30](x4)\n",
    "        # print(x1.shape)\n",
    "        # print(x2.shape)\n",
    "        # print(x3.shape)\n",
    "        # print(x4.shape)\n",
    "        # print(x5.shape)\n",
    "\n",
    "        x6 = self.up_1(x5,x4)\n",
    "        x7 = self.up_2(x6,x3)\n",
    "        x8 = self.up_3(x7,x2)\n",
    "        x9 = self.up_4(x8,x1,True)\n",
    "\n",
    "        # (F3,S3),(F2,S2),(F1,S1),(F0,S0)\n",
    "        return (x6[:15],x6[15:]),(x7[:15],x7[15:]),(x8[:15],x8[16:]),(x9[:15],x9[16:])\n",
    "        \n"
   ]
  },
  {
   "cell_type": "code",
   "execution_count": 85,
   "metadata": {},
   "outputs": [],
   "source": [
    "net = UNet(1,17)"
   ]
  },
  {
   "cell_type": "code",
   "execution_count": 86,
   "metadata": {},
   "outputs": [],
   "source": [
    "# for (x,y) in dataloader:\n",
    "#     print(x.shape)\n",
    "#     print(y.shape)\n",
    "# print(dataset[0][0].)\n",
    "(F3,S3),(F2,S2),(F1,S1),(F0,S0) = net(dataset[0][0].float().repeat(3,1,1).unsqueeze(0))"
   ]
  },
  {
   "cell_type": "code",
   "execution_count": null,
   "metadata": {},
   "outputs": [],
   "source": [
    "# for each "
   ]
  },
  {
   "cell_type": "code",
   "execution_count": null,
   "metadata": {},
   "outputs": [],
   "source": []
  }
 ],
 "metadata": {
  "kernelspec": {
   "display_name": "Python 3.8.8 ('base')",
   "language": "python",
   "name": "python3"
  },
  "language_info": {
   "codemirror_mode": {
    "name": "ipython",
    "version": 3
   },
   "file_extension": ".py",
   "mimetype": "text/x-python",
   "name": "python",
   "nbconvert_exporter": "python",
   "pygments_lexer": "ipython3",
   "version": "3.8.8"
  },
  "orig_nbformat": 4,
  "vscode": {
   "interpreter": {
    "hash": "ef066a2e168bd6254f9ff46fd49daee354f3fadc20859b3f0690f877144f071b"
   }
  }
 },
 "nbformat": 4,
 "nbformat_minor": 2
}
