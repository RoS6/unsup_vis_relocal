{
 "cells": [
  {
   "cell_type": "code",
   "execution_count": 1,
   "metadata": {},
   "outputs": [],
   "source": [
    "import torch\n",
    "import numpy as np\n",
    "import pandas as pd\n",
    "import glob\n",
    "import os\n",
    "from torch.utils.data import Dataset\n",
    "from torch.utils.data import DataLoader\n",
    "from torchvision.io import read_image \n",
    "from torchvision import datasets, models, transforms\n",
    "base_dir = '../dataset/MN_015_HH_01/MN_015_HH_01/handheld0/'"
   ]
  },
  {
   "cell_type": "code",
   "execution_count": 2,
   "metadata": {},
   "outputs": [
    {
     "name": "stderr",
     "output_type": "stream",
     "text": [
      "c:\\Users\\28340\\anaconda3\\envs\\fyp\\lib\\site-packages\\torchvision\\models\\_utils.py:208: UserWarning: The parameter 'pretrained' is deprecated since 0.13 and will be removed in 0.15, please use 'weights' instead.\n",
      "  warnings.warn(\n",
      "c:\\Users\\28340\\anaconda3\\envs\\fyp\\lib\\site-packages\\torchvision\\models\\_utils.py:223: UserWarning: Arguments other than a weight enum or `None` for 'weights' are deprecated since 0.13 and will be removed in 0.15. The current behavior is equivalent to passing `weights=VGG16_Weights.IMAGENET1K_V1`. You can also use `weights=VGG16_Weights.DEFAULT` to get the most up-to-date weights.\n",
      "  warnings.warn(msg)\n"
     ]
    }
   ],
   "source": [
    "import torchvision.models as models\n",
    "vgg = models.vgg16(pretrained=True)\n"
   ]
  },
  {
   "cell_type": "code",
   "execution_count": 3,
   "metadata": {},
   "outputs": [],
   "source": [
    "df = pd.read_csv((base_dir+\"cam0/\"+\"data.csv\"))\n"
   ]
  },
  {
   "cell_type": "code",
   "execution_count": 4,
   "metadata": {},
   "outputs": [],
   "source": [
    "#combine all possible 3 touple, 2 ref 1 query"
   ]
  },
  {
   "cell_type": "code",
   "execution_count": 5,
   "metadata": {},
   "outputs": [],
   "source": [
    "class OivioDataset(Dataset):\n",
    "    def __init__(self,annotations_file, img_dir, transform=None, target_transform=None):\n",
    "        self.img_labels = pd.read_csv(annotations_file)['filename']\n",
    "        self.img_dir = img_dir\n",
    "        self.transform = transform\n",
    "        self.target_transform = target_transform\n",
    "    def __len__(self):\n",
    "        return len(self.img_labels)\n",
    "    \n",
    "    def __getitem__(self, idx):\n",
    "        img_path = os.path.join(self.img_dir, self.img_labels[idx])\n",
    "        image = read_image(img_path)\n",
    "        label = self.img_labels[idx]\n",
    "        if self.transform:\n",
    "            image = self.transform(image)\n",
    "        if self.target_transform:\n",
    "            label = self.target_transform(label)\n",
    "        return image, label\n",
    "\n",
    "    \n"
   ]
  },
  {
   "cell_type": "code",
   "execution_count": 6,
   "metadata": {},
   "outputs": [],
   "source": [
    "dataset = OivioDataset(\"../dataset/MN_015_HH_01/MN_015_HH_01/handheld0/cam0/data.csv\",base_dir+\"cam0/data\",transform=transforms.Resize([224,224]), target_transform=None)"
   ]
  },
  {
   "cell_type": "code",
   "execution_count": 7,
   "metadata": {},
   "outputs": [],
   "source": [
    "dataloader = DataLoader(dataset, batch_size=16, shuffle=True, num_workers=4)"
   ]
  },
  {
   "cell_type": "code",
   "execution_count": 8,
   "metadata": {},
   "outputs": [],
   "source": [
    "# del vgg.classifier\n",
    "vgg.avgpool = torch.nn.Identity()\n",
    "vgg.features[30] = torch.nn.Identity()\n",
    "# print(vgg)"
   ]
  },
  {
   "cell_type": "code",
   "execution_count": 9,
   "metadata": {},
   "outputs": [],
   "source": [
    "for param in vgg.features:\n",
    "    param.requires_grad = False"
   ]
  },
  {
   "cell_type": "code",
   "execution_count": 15,
   "metadata": {},
   "outputs": [],
   "source": [
    "class Upsampling(torch.nn.Module):\n",
    "    def __init__(self, in_channels, out_channels, kernel_size=3, padding=0):\n",
    "        super(Upsampling, self).__init__()\n",
    "        # print(\"in_channels: \",in_channels)\n",
    "        # print(\"out_channels: \",out_channels)\n",
    "        self.in_channels = in_channels\n",
    "        self.out_channels = out_channels\n",
    "        self.upsample = torch.nn.Upsample(scale_factor=2, mode='bilinear', align_corners=True)\n",
    "                                     \n",
    "    def forward(self, x1,x2,final = False):\n",
    "        x1up = self.upsample(x1)\n",
    "        # print(\"x1up?: \",x1up.shape)\n",
    "        # print(\"x2.shape: \",x2.shape)\n",
    "        if x1up.shape != x2.shape:\n",
    "            x1up = torch.nn.functional.pad(x1up, (0, x2.shape[3] - x1up.shape[3], 0, x2.shape[2] - x1up.shape[2]))\n",
    "\n",
    "        x = torch.cat([x2, x1up], dim=1)\n",
    "        if final:\n",
    "            output= torch.nn.Sequential(torch.nn.Conv2d(64+17, 17, kernel_size=1 , padding = 0,stride=1),\n",
    "                                     torch.nn.BatchNorm2d(17),\n",
    "                                     torch.nn.ReLU(True),\n",
    "                                     \n",
    "                                     torch.nn.Conv2d(17,17, kernel_size=1, padding= 0,stride=1),\n",
    "                                     torch.nn.Sigmoid())(x)\n",
    "            return output\n",
    "        output = torch.nn.Sequential(torch.nn.Conv2d(self.in_channels, self.out_channels, kernel_size= 1, padding= 0,stride=1),\n",
    "                                     torch.nn.BatchNorm2d(self.out_channels),\n",
    "                                     torch.nn.ReLU(True),\n",
    "                                     torch.nn.Conv2d(self.out_channels, self.out_channels, kernel_size= 1, padding= 0,stride=1),\n",
    "                                     torch.nn.BatchNorm2d(self.out_channels),\n",
    "                                     torch.nn.ReLU(True),\n",
    "                                     torch.nn.Conv2d(self.out_channels, self.out_channels, kernel_size= 1, padding= 0,stride=1),\n",
    "                                     torch.nn.BatchNorm2d(self.out_channels),\n",
    "                                     torch.nn.ReLU(True))(x)\n",
    "        \n",
    "\n",
    "        return output"
   ]
  },
  {
   "cell_type": "code",
   "execution_count": 16,
   "metadata": {},
   "outputs": [],
   "source": [
    "class UNet(torch.nn.Module):\n",
    "    def __init__(self, in_channels, out_channels):\n",
    "        super(UNet, self).__init__()\n",
    "        self.in_channels = in_channels\n",
    "        self.out_channels = out_channels\n",
    "\n",
    "        self.vgg = vgg\n",
    "\n",
    "        self.up_1 = Upsampling(1024, 17)\n",
    "        self.up_2 = Upsampling(256+17, 17)\n",
    "        self.up_3 = Upsampling(128+17, 17)\n",
    "        self.up_4 = Upsampling(64+17, 17)\n",
    "        # self.up_4 =\n",
    "        # self.outputs = LastConv(64+17, 17)\n",
    "    \n",
    "    def forward(self,x):\n",
    "        x1 = self.vgg.features[0:4](x)\n",
    "        x2 = self.vgg.features[4:9](x1)\n",
    "        x3 = self.vgg.features[9:16](x2)\n",
    "        x4 = self.vgg.features[16:23](x3)\n",
    "        x5 = self.vgg.features[23:30](x4)\n",
    "        # print(x1.shape)\n",
    "        # print(x2.shape)\n",
    "        # print(x3.shape)\n",
    "        # print(x4.shape)\n",
    "        # print(x5.shape)\n",
    "\n",
    "        x6 = self.up_1(x5,x4)\n",
    "        x7 = self.up_2(x6,x3)\n",
    "        x8 = self.up_3(x7,x2)\n",
    "        x9 = self.up_4(x8,x1,True)\n",
    "        print(\"x9.shape: \",x9.shape)\n",
    "        # (F3,S3),(F2,S2),(F1,S1),(F0,S0)\n",
    "        return (x6[:15],x6[15:]),(x7[:15],x7[15:]),(x8[:15],x8[16:]),(x9[:15],x9[16:])\n",
    "        \n"
   ]
  },
  {
   "cell_type": "code",
   "execution_count": 17,
   "metadata": {},
   "outputs": [],
   "source": [
    "net = UNet(1,17)"
   ]
  },
  {
   "cell_type": "code",
   "execution_count": 18,
   "metadata": {},
   "outputs": [
    {
     "name": "stdout",
     "output_type": "stream",
     "text": [
      "x9.shape:  torch.Size([1, 17, 224, 224])\n"
     ]
    }
   ],
   "source": [
    "# for (x,y) in dataloader:\n",
    "#     print(x.shape)\n",
    "#     print(y.shape)\n",
    "# print(dataset[0][0].)\n",
    "(F3,S3),(F2,S2),(F1,S1),(F0,S0) = net(dataset[0][0].float().repeat(3,1,1).unsqueeze(0))"
   ]
  },
  {
   "cell_type": "code",
   "execution_count": 14,
   "metadata": {},
   "outputs": [
    {
     "data": {
      "text/plain": [
       "torch.Size([1, 224, 224])"
      ]
     },
     "execution_count": 14,
     "metadata": {},
     "output_type": "execute_result"
    }
   ],
   "source": [
    "dataset[0][0].shape"
   ]
  },
  {
   "cell_type": "code",
   "execution_count": 19,
   "metadata": {},
   "outputs": [
    {
     "data": {
      "text/plain": [
       "torch.Size([0, 17, 223, 223])"
      ]
     },
     "execution_count": 19,
     "metadata": {},
     "output_type": "execute_result"
    }
   ],
   "source": [
    "S0.shape"
   ]
  },
  {
   "cell_type": "code",
   "execution_count": 30,
   "metadata": {},
   "outputs": [],
   "source": [
    "import glob\n",
    "import numpy as np\n",
    "import argparse \n",
    "\n",
    "import torch\n",
    "import torch.nn as nn\n",
    "import torch.nn.functional as func\n",
    " \n",
    "# from .code.models.LeastSquareTracking import LeastSquareTracking \n",
    "from tqdm import tqdm\n",
    "from torch.utils.data import DataLoader\n",
    "# from data.SimpleLoader import SimpleLoader\n",
    "import numpy as np\n",
    "import os\n",
    "from numpy.linalg import inv\n",
    "from numpy.matlib import repmat\n",
    "import glob\n",
    "import numpy as np\n",
    "class Carla_Dataset(torch.utils.data.Dataset):\n",
    "    def __init__(self, img_dir, transform=None, target_transform=None):\n",
    "        self.img_labels = glob.glob(os.path.join(img_dir, '*.npz'))\n",
    "        self.img_dir = img_dir\n",
    "        self.transform = transform\n",
    "        self.target_transform = target_transform\n",
    "        self.extrinsic_list = []\n",
    "        self.intrinsic = 0\n",
    "    def __len__(self):\n",
    "        return len(self.img_labels)\n",
    "    def find_depth(self, depth, intrinsic):\n",
    "        depth_image = depth.detach().numpy()\n",
    "\n",
    "        pixel_length = depth_image.shape[0] * depth_image.shape[1]\n",
    "        width = depth_image.shape[1]\n",
    "        height = depth_image.shape[0]\n",
    " \n",
    "        u_coord = repmat(np.r_[width-1:-1:-1],\n",
    "                        height, 1).reshape(pixel_length)\n",
    "        v_coord = repmat(np.c_[height-1:-1:-1],\n",
    "                        1, width).reshape(pixel_length)\n",
    "        p2d = np.array([u_coord, v_coord, np.ones_like(u_coord)])\n",
    "\n",
    "        normalized_depth = np.reshape(depth_image, pixel_length)\n",
    "        p2d = np.array([u_coord, v_coord, np.ones_like(u_coord)])\n",
    "\n",
    "        # P = [X,Y,Z]\n",
    "        inv_intrinsic = inv(intrinsic)\n",
    "        p3d = np.dot(inv_intrinsic, p2d)\n",
    "        p3d = p3d * normalized_depth * 1000.0\n",
    "        \n",
    "        return p3d.reshape(height, width)\n",
    "\n",
    "    def __getitem__(self, idx):\n",
    "        # img_path = os.path.join(self.img_dir, self.img_labels[idx])\n",
    "        img_path = self.img_labels[idx]\n",
    "        image_info = np.load(img_path)\n",
    "        rgb_image = image_info['rgb']\n",
    "        depth_image = image_info['depth']\n",
    "        # depth = findDepth(depth_image, intrinsic)\n",
    "        depth = depth_image\n",
    "        intrinsic = image_info['K']\n",
    "        extrinsic = image_info['extrinsic']\n",
    "        self.intrinsic = torch.from_numpy(intrinsic)\n",
    "        self.extrinsic_list.append(torch.from_numpy(extrinsic))\n",
    "        \n",
    "\n",
    "        if self.transform:\n",
    "            rgb_image = self.transform(rgb_image)\n",
    "            depth_image = self.transform(depth_image)\n",
    "            depth_image = self.find_depth(depth_image, intrinsic)\n",
    "        return torch.from_numpy(rgb_image).type(torch.float).view(3, depth_image.shape[0], depth_image.shape[1]).unsqueeze(0), torch.from_numpy(depth_image).type(torch.float).view(1, depth_image.shape[0], depth_image.shape[1]).unsqueeze(0)\n",
    "    \n",
    "\n",
    "def resize(img0, img1, depth0, depth1, resizeH, resizeW): \n",
    "    H, W = img0.shape[-2:]\n",
    "    \n",
    "    I0 = func.interpolate(img0, (resizeH,resizeW), mode='bilinear', align_corners=True)\n",
    "    I1 = func.interpolate(img1, (resizeH,resizeW), mode='bilinear', align_corners=True)\n",
    "    D0 = func.interpolate(depth0, (resizeH,resizeW), mode='nearest')\n",
    "    D1 = func.interpolate(depth1, (resizeH,resizeW), mode='nearest')\n",
    "\n",
    "    sx = resizeH / H\n",
    "    sy = resizeW / W\n",
    "\n",
    "    return I0, I1, D0, D1\n",
    "\n"
   ]
  },
  {
   "cell_type": "code",
   "execution_count": 31,
   "metadata": {},
   "outputs": [],
   "source": [
    "dataset = Carla_Dataset(f'C:\\\\Users\\\\28340\\\\Documents\\\\UCL\\\\finalYearProject\\\\code\\\\unsupervised_vis_loc_reproduce\\\\carla_npzs\\\\')\n",
    "simple_loader = DataLoader(dataset, batch_size=1, shuffle=False)\n",
    "temp_image = dataset[0]"
   ]
  },
  {
   "cell_type": "code",
   "execution_count": 32,
   "metadata": {},
   "outputs": [
    {
     "name": "stdout",
     "output_type": "stream",
     "text": [
      "x9.shape:  torch.Size([1, 17, 120, 160])\n"
     ]
    }
   ],
   "source": [
    "color0,depth0 = dataset[0]\n",
    "\n",
    "color1,depth1 = dataset[1]\n",
    "extrinsic1 = dataset.extrinsic_list[0]\n",
    "extrinsic2 = dataset.extrinsic_list[1] \n",
    "C0, C1, D0, D1 = resize(color0, color1, depth0, depth1, resizeH = 120, resizeW=160)\n",
    "# with torch.no_grad():\n",
    "result= net.forward(C0)"
   ]
  },
  {
   "cell_type": "code",
   "execution_count": 34,
   "metadata": {},
   "outputs": [],
   "source": [
    "(F3,S3),(F2,S2),(F1,S1),(F0,S0) = result"
   ]
  },
  {
   "cell_type": "code",
   "execution_count": 36,
   "metadata": {},
   "outputs": [
    {
     "data": {
      "text/plain": [
       "torch.Size([1, 17, 15, 20])"
      ]
     },
     "execution_count": 36,
     "metadata": {},
     "output_type": "execute_result"
    }
   ],
   "source": [
    "F3.shape"
   ]
  },
  {
   "cell_type": "code",
   "execution_count": 37,
   "metadata": {},
   "outputs": [
    {
     "data": {
      "text/plain": [
       "torch.Size([1, 17, 30, 40])"
      ]
     },
     "execution_count": 37,
     "metadata": {},
     "output_type": "execute_result"
    }
   ],
   "source": [
    "F2.shape"
   ]
  },
  {
   "cell_type": "code",
   "execution_count": 38,
   "metadata": {},
   "outputs": [
    {
     "data": {
      "text/plain": [
       "torch.Size([1, 17, 60, 80])"
      ]
     },
     "execution_count": 38,
     "metadata": {},
     "output_type": "execute_result"
    }
   ],
   "source": [
    "F1.shape"
   ]
  },
  {
   "cell_type": "code",
   "execution_count": 39,
   "metadata": {},
   "outputs": [
    {
     "data": {
      "text/plain": [
       "torch.Size([1, 17, 120, 160])"
      ]
     },
     "execution_count": 39,
     "metadata": {},
     "output_type": "execute_result"
    }
   ],
   "source": [
    "F0.shape"
   ]
  },
  {
   "cell_type": "code",
   "execution_count": null,
   "metadata": {},
   "outputs": [],
   "source": []
  }
 ],
 "metadata": {
  "kernelspec": {
   "display_name": "Python 3.8.13 ('fyp')",
   "language": "python",
   "name": "python3"
  },
  "language_info": {
   "codemirror_mode": {
    "name": "ipython",
    "version": 3
   },
   "file_extension": ".py",
   "mimetype": "text/x-python",
   "name": "python",
   "nbconvert_exporter": "python",
   "pygments_lexer": "ipython3",
   "version": "3.8.13"
  },
  "orig_nbformat": 4,
  "vscode": {
   "interpreter": {
    "hash": "92e853dbaceed3088030898fb8081c1c7a38fe0d9e4ab9e36a77882e6958d054"
   }
  }
 },
 "nbformat": 4,
 "nbformat_minor": 2
}
