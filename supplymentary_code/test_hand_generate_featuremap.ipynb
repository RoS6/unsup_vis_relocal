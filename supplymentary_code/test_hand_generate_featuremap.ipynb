{
 "cells": [
  {
   "cell_type": "markdown",
   "metadata": {
    "id": "txfYqIzB-zXd",
    "tags": []
   },
   "source": [
    "# Transform Consistency Loss"
   ]
  },
  {
   "cell_type": "code",
   "execution_count": 1,
   "metadata": {
    "id": "pRLUQGGz8n_f"
   },
   "outputs": [],
   "source": [
    "import pathlib\n",
    "import tempfile\n",
    "\n",
    "import torch\n",
    "import torchvision\n",
    "import torch.nn.functional as F\n",
    "\n",
    "import numpy as np\n",
    "import matplotlib.pyplot as plt\n",
    "import roma\n",
    "import tqdm\n",
    "\n",
    "from Unet2 import UNet\n",
    "from se3 import se3_log_map, se3_exp_map\n",
    "\n",
    "device = torch.device(\"cuda:0\" if torch.cuda.is_available() else \"cpu\")"
   ]
  },
  {
   "cell_type": "markdown",
   "metadata": {
    "id": "8aiIYoav-zXf"
   },
   "source": [
    "A few things to fix:\n",
    "- Understanding the paper\n",
    "- Loading the data\n",
    "- Converting the handedness\n",
    "- Converting between different extrinsic formats and choosing great names for them\n",
    "- Understanding the sources of NaN - perspective division and taking a log of a negative number\n",
    "\n",
    "How I was able to do all of these things in 1/2 a day:\n",
    "- Writing lots of little tests"
   ]
  },
  {
   "cell_type": "markdown",
   "metadata": {
    "id": "mUEhHtFF-zXh"
   },
   "source": [
    "## Extrinsic Representations\n",
    "\n",
    "We need to work in at least 3 representations of extrinsic matrices for this problem.\n",
    "\n",
    "1. Rigid body transforms in $SE(3)$ tangent space are represented as a `transform` matrix\n",
    "2. Rotation matrices in $SO(3)$ tangent space translation vectors are represented as a `pose` tuple\n",
    "3. The 6 degrees of freedom are represented as a vector of `params`\n",
    "\n",
    "These are all isomorphisms, and below we define functions for converting between these different representations."
   ]
  },
  {
   "cell_type": "code",
   "execution_count": 2,
   "metadata": {
    "id": "ga8EAZ_E-zXh"
   },
   "outputs": [],
   "source": [
    "def transform_from_params(params):\n",
    "    return se3_exp_map(params).mT"
   ]
  },
  {
   "cell_type": "code",
   "execution_count": 3,
   "metadata": {
    "id": "U_N0VmZK-zXh"
   },
   "outputs": [],
   "source": [
    "def params_from_transform(transform):\n",
    "    return se3_log_map(transform.mT)"
   ]
  },
  {
   "cell_type": "code",
   "execution_count": 4,
   "metadata": {},
   "outputs": [],
   "source": [
    "def pose_from_transform(transform):\n",
    "    return transform[..., :3, :3], transform[..., :3,[3]]"
   ]
  },
  {
   "cell_type": "markdown",
   "metadata": {
    "id": "znZFsyv1-zXf"
   },
   "source": [
    "## Data Loader\n",
    "\n",
    "A good dataloader should read files from the disk and not use too much memory.\n",
    "\n",
    "Unfortunately, the large dataset that Oli supplied is compressed in `npz` format, and must be uncompressed first before it can be used. Our strategy will be to load the file, then write it out as a temporary `memmap`'d file which can be indexed without needing to read the whole file into memory."
   ]
  },
  {
   "cell_type": "markdown",
   "metadata": {
    "id": "FmyBteJL-zXi",
    "tags": []
   },
   "source": [
    "## Perspective Geometry"
   ]
  },
  {
   "cell_type": "code",
   "execution_count": 5,
   "metadata": {
    "id": "ZrU2fC9W-zXi"
   },
   "outputs": [],
   "source": [
    "def perspective(points, epsilon=1e-8):\n",
    "    \"\"\"\n",
    "    Perspective division\n",
    "    \"\"\"\n",
    "    return points[..., :-1, :] / (points[..., [-1], :] + epsilon)"
   ]
  },
  {
   "cell_type": "code",
   "execution_count": 50,
   "metadata": {
    "id": "eNQQnhA7-zXi"
   },
   "outputs": [],
   "source": [
    "def apply_transform(points, transform):\n",
    "    \"\"\"\n",
    "    Project points to camera reference frame\n",
    "    \"\"\"\n",
    "    R, t = transform[..., :3, :3], transform[..., :3, [3]]\n",
    "    return R @ points + t\n",
    "    # temp_points = torch.cat([points, torch.ones_like(points[..., [0]])], dim=-2)\n",
    "    # return (transform @ points)[:,:3,:]"
   ]
  },
  {
   "cell_type": "code",
   "execution_count": 51,
   "metadata": {
    "id": "g83MbEwh-zXi"
   },
   "outputs": [],
   "source": [
    "def project(points, K, height, width):\n",
    "    \"\"\"\n",
    "    Project 3D points into a 2D image with intrinsic matrix K\n",
    "    \"\"\"\n",
    "    coords = K @ points\n",
    "    coords = perspective(coords)\n",
    "    coords = coords.view(-1, height, width, 2)\n",
    "    coords = (coords - 0.5) * 2\n",
    "    return coords"
   ]
  },
  {
   "cell_type": "code",
   "execution_count": 52,
   "metadata": {
    "id": "p8ZKzpvX-zXi"
   },
   "outputs": [],
   "source": [
    "def backproject(depth, K):\n",
    "    \"\"\"\n",
    "    Backproject a depth map into 3D space with normalized intrinsic matrix K.\n",
    "    The depth map should be normalized between (min_depth, max_depth).\n",
    "    \"\"\"\n",
    "    height, width = depth.shape[-2:]\n",
    "    size = height * width\n",
    "    y = torch.linspace(0, 1, height, device=depth.device, dtype=depth.dtype)\n",
    "    x = torch.linspace(0, 1, width,  device=depth.device, dtype=depth.dtype)\n",
    "    u, v = torch.meshgrid(x, y, indexing='xy')\n",
    "    ones = torch.ones(size, device=depth.device)\n",
    "    points = torch.column_stack([u.ravel(), v.ravel(), ones]).view(-1, size, 3, 1)\n",
    "    points = torch.linalg.inv(K) @ points\n",
    "    return points * depth.view(-1, size, 1, 1)"
   ]
  },
  {
   "cell_type": "code",
   "execution_count": 53,
   "metadata": {
    "id": "O4BGjiFo-zXi"
   },
   "outputs": [],
   "source": [
    "def pix_coords(height, width, device):\n",
    "    \"\"\"\n",
    "    Create a grid of camera pixels in normalized device coordinates\n",
    "    \"\"\"\n",
    "    size = height * width\n",
    "    y = torch.linspace(-1, 1, height, device=device)\n",
    "    x = torch.linspace(-1, 1, width, device=device)\n",
    "    u, v = torch.meshgrid(x, y, indexing='xy')\n",
    "    ones = torch.ones(size, device=device)\n",
    "    return torch.column_stack([u.ravel(), v.ravel(), ones]).view(-1, size, 3, 1)"
   ]
  },
  {
   "cell_type": "code",
   "execution_count": 54,
   "metadata": {
    "id": "R8ZcR5I1-zXi"
   },
   "outputs": [],
   "source": [
    "def warp(homography, image, padding_mode=\"border\"):\n",
    "    \"\"\"\n",
    "    Warp an image using homography\n",
    "    \"\"\"\n",
    "    height, width = image.shape[-2:]\n",
    "    coords = pix_coords(height, width, device=device)\n",
    "    warped = project(homography @ coords, height, width)\n",
    "    warped = F.grid_sample(image, warped, padding_mode=padding_mode, align_corners=False)\n",
    "    return warped"
   ]
  },
  {
   "cell_type": "code",
   "execution_count": 55,
   "metadata": {
    "id": "4MsyXW_B-zXi"
   },
   "outputs": [],
   "source": [
    "def reproject(depth, image, K, transform):\n",
    "    \"\"\"\n",
    "    Backproject a depth map and transform it into the reference frame of a new camera\n",
    "    defined by K, R, t by resampling the image.\n",
    "    \"\"\"\n",
    "    points_3d = backproject(depth, K)\n",
    "    points_3d = apply_transform(points_3d, transform)\n",
    "    points_2d = project(points_3d, K, depth.shape[-2], depth.shape[-1])\n",
    "    output = F.grid_sample(image, points_2d, padding_mode=\"zeros\", align_corners=False)\n",
    "    return output"
   ]
  },
  {
   "cell_type": "markdown",
   "metadata": {
    "id": "zjJyoxF0-zXj"
   },
   "source": [
    "### Testing Perspective Geometry\n",
    "\n",
    "Let's see if we can project image_0 into image_1."
   ]
  },
  {
   "cell_type": "markdown",
   "metadata": {
    "id": "M0-oRjWa-zXj",
    "tags": []
   },
   "source": [
    "## Gauss-Newton"
   ]
  },
  {
   "cell_type": "code",
   "execution_count": 56,
   "metadata": {
    "id": "oskAYxfC8n_f"
   },
   "outputs": [],
   "source": [
    "def gauss_newton(x, residuals, damping=1., iterations=5):\n",
    "    # Unroll a number of iterations of Gauss-Newton.\n",
    "    for i in range(0, iterations):\n",
    "        # Compute the gauss-newton updates.\n",
    "        R = residuals(x)\n",
    "        # We need nan_to_num in case there are no errors..!\n",
    "        J = torch.autograd.functional.jacobian(residuals, x)\n",
    "        # https://en.wikipedia.org/wiki/Gauss–Newton_algorithm\n",
    "        J = (j.sum(0, keepdim=True) for j in J)\n",
    "        R = (-torch.atleast_1d(r) for r in R)\n",
    "        # J.mT @ J, J.mT @ r\n",
    "        u = torch.stack([\n",
    "            torch.linalg.lstsq(j, -r).solution\n",
    "            for j, r in zip(J, R)\n",
    "        ])\n",
    "        # Update x, but do nothing if the solution is bad\n",
    "        x = x + damping * u.nan_to_num(0)  # continue iterating\n",
    "        # if J.sum() ==0:\n",
    "        #     print(\"jacobian is 0\", \"\\n x\", x, \"\\nr\", r, \"\\nJ\", J)\n",
    "    return x"
   ]
  },
  {
   "cell_type": "code",
   "execution_count": 57,
   "metadata": {
    "id": "Owk0YokG-zXj"
   },
   "outputs": [],
   "source": [
    "def align_feature_maps(K, features_q, saliency_q, features_r, saliency_r, depth_r, delta):\n",
    "    def residuals(params):\n",
    "        transform = transform_from_params(params).unsqueeze(1)\n",
    "        features_estimated = reproject(depth_r, features_r, K, transform)\n",
    "        saliency_estimated = reproject(depth_r, saliency_r, K, transform)\n",
    "        errors = torch.nn.functional.huber_loss(features_q, features_estimated, reduction='none', delta=delta)\n",
    "        errors = saliency_estimated * saliency_q * errors\n",
    "        return tuple(error.sum() for error in errors)\n",
    "    return residuals"
   ]
  },
  {
   "cell_type": "code",
   "execution_count": 58,
   "metadata": {},
   "outputs": [],
   "source": [
    "def align_images(K, image_q, image_r, depth_r):\n",
    "    def residuals(params):\n",
    "        transform = transform_from_params(params).unsqueeze(1)\n",
    "        image_est = reproject(depth_r, image_r, K, transform)\n",
    "        errors = torch.nn.functional.huber_loss(image_q, image_est, reduction='none', delta=0.2)\n",
    "        return tuple(error.sum() for error in errors)\n",
    "    return residuals"
   ]
  },
  {
   "cell_type": "code",
   "execution_count": 59,
   "metadata": {},
   "outputs": [],
   "source": [
    "#generate a feature map and corresponding depth map, pose.\n",
    "# project the feature map to another view\n",
    "# use Gauss newton to optimize the relative pose\n",
    "# compare the optimized pose with the ground truth"
   ]
  },
  {
   "cell_type": "code",
   "execution_count": 60,
   "metadata": {},
   "outputs": [
    {
     "data": {
      "image/png": "[encoded data removed]",
      "text/plain": [
       "<Figure size 640x480 with 1 Axes>"
      ]
     },
     "metadata": {},
     "output_type": "display_data"
    }
   ],
   "source": [
    "#generate a feature map and corresponding depth map, pose.\n",
    "import cv2\n",
    "import numpy as np\n",
    "image_0 = np.zeros((400,600,3), dtype=np.uint8)\n",
    "# draw 4 rectangles, further ones having smaller size\n",
    "cv2.rectangle(image_0, (100, 100), (200, 200), (255,255,255), -1) # surface area = 10000\n",
    "cv2.rectangle(image_0, (450, 50), (500, 100), (255,255,255), -1) # surface area = 2500 \n",
    "cv2.rectangle(image_0, (300, 300), (500, 350), (255,255,255), -1) #10000\n",
    "cv2.rectangle(image_0, (350, 150), (400, 250), (255,255,255), -1) #5000\n",
    "# plt.imshow(image_0)\n",
    "# depth is linearly relative to surface area\n",
    "depth_0 = np.zeros((400,600), dtype=np.float32)\n",
    "depth_0[100:200, 100:200] = 1/10\n",
    "depth_0[50:100, 450:500] = 1/2.5\n",
    "depth_0[300:350, 300:500] = 1/10\n",
    "depth_0[150:250, 350:400] = 1/5\n",
    "plt.imshow(depth_0, cmap='gray')\n",
    "image_0_tensor = torch.from_numpy(image_0).permute(2,0,1).unsqueeze(0).float().to(device)/255\n",
    "depth_0_tensor = torch.from_numpy(depth_0).unsqueeze(0).float().to(device)*1000"
   ]
  },
  {
   "cell_type": "code",
   "execution_count": 75,
   "metadata": {},
   "outputs": [],
   "source": [
    "K = torch.tensor([[1, 0, 0], [0, 1, 0], [0, 0, 1]], dtype=torch.float32, device=device)\n",
    "extrinsic0 = torch.tensor([[1, 0, 0, 0], [0, 1, 0, 0], [0, 0, 1, 0]], dtype=torch.float32, device=device)\n",
    "# set up a transformation between 0 to 1\n",
    "gt_T01 = roma.rotvec_to_rotmat(torch.tensor([0.0,0.0,0], dtype=torch.float32, device=device))\n",
    "gt_T01 = torch.cat([gt_T01, torch.tensor([[0,5,0]], dtype=torch.float32, device=device).T], dim=1)\n",
    "gt_T01 = torch.cat([gt_T01, torch.tensor([[0,0,0,1]], dtype=torch.float32, device=device)], dim=0)"
   ]
  },
  {
   "cell_type": "code",
   "execution_count": 76,
   "metadata": {},
   "outputs": [
    {
     "data": {
      "text/plain": [
       "tensor([[1., -0., 0., 0.],\n",
       "        [0., 1., -0., 5.],\n",
       "        [-0., 0., 1., 0.],\n",
       "        [0., 0., 0., 1.]], device='cuda:0')"
      ]
     },
     "execution_count": 76,
     "metadata": {},
     "output_type": "execute_result"
    }
   ],
   "source": [
    "gt_T01"
   ]
  },
  {
   "cell_type": "code",
   "execution_count": 77,
   "metadata": {},
   "outputs": [],
   "source": [
    "# find the depth map and feature map of the second image\n",
    "image_1 = reproject(depth_0_tensor, image_0_tensor, K, gt_T01)\n",
    "# find the depth map of the second image\n",
    "# backproject the depth map to 3d points in image 0\n",
    "image_depth = depth_0_tensor.unsqueeze(0)\n",
    "image_1_depth = reproject(depth_0_tensor, image_depth, K, gt_T01)\n",
    "depth_1 = image_1_depth.squeeze(0)"
   ]
  },
  {
   "cell_type": "code",
   "execution_count": 78,
   "metadata": {},
   "outputs": [
    {
     "data": {
      "text/plain": [
       "<matplotlib.image.AxesImage at 0x1c16e6b56d0>"
      ]
     },
     "execution_count": 78,
     "metadata": {},
     "output_type": "execute_result"
    },
    {
     "data": {
      "image/png": "[encoded data removed]",
      "text/plain": [
       "<Figure size 1000x800 with 4 Axes>"
      ]
     },
     "metadata": {},
     "output_type": "display_data"
    }
   ],
   "source": [
    "# plt image_0, depth_0, image_1, depth_1\n",
    "fig,ax = plt.subplots(2,2, figsize=(10,8))\n",
    "ax[0,0].set_title('image_0')\n",
    "ax[0,1].set_title('depth_0')\n",
    "ax[1,0].set_title('image_1')\n",
    "ax[1,1].set_title('depth_1')\n",
    "ax[0,0].imshow(image_0_tensor.squeeze(0).permute(1,2,0).cpu().numpy())\n",
    "ax[0,1].imshow(depth_0_tensor.squeeze().cpu().numpy(), cmap='gray')\n",
    "ax[1,0].imshow(image_1.squeeze(0).permute(1,2,0).cpu().numpy())\n",
    "ax[1,1].imshow(depth_1.squeeze().cpu().numpy(), cmap='gray')"
   ]
  },
  {
   "cell_type": "code",
   "execution_count": 79,
   "metadata": {},
   "outputs": [
    {
     "data": {
      "image/png": "[encoded data removed]",
      "text/plain": [
       "<Figure size 1000x800 with 3 Axes>"
      ]
     },
     "metadata": {},
     "output_type": "display_data"
    }
   ],
   "source": [
    "guess = torch.zeros(1, 6).to(device)\n",
    "\n",
    "residual = align_images(K.unsqueeze(0).unsqueeze(0), image_0_tensor, image_1, depth_1)\n",
    "estimate = gauss_newton(guess, residual, damping=0.01, iterations=50)\n",
    "image_01 = reproject(depth_0_tensor, image_0_tensor, K, transform_from_params(estimate).unsqueeze(1))\n",
    "fig, axs = plt.subplots(1,3, figsize=(10, 8))\n",
    "\n",
    "axs[0].set_title('reprojected query image')\n",
    "axs[1].set_title('query image')\n",
    "axs[2].set_title('reference image')\n",
    "\n",
    "axs[0].imshow(image_01[0].cpu().permute(1,2,0))\n",
    "axs[1].imshow(image_0_tensor [0].cpu().permute(1,2,0))\n",
    "axs[2].imshow(image_1 [0].cpu().permute(1,2,0))\n",
    "plt.tight_layout()\n",
    "plt.show()"
   ]
  },
  {
   "cell_type": "code",
   "execution_count": 21,
   "metadata": {},
   "outputs": [
    {
     "data": {
      "text/plain": [
       "(tensor([[[ 9.9985e-01, -2.7934e-03,  1.7301e-02, -6.5755e-06],\n",
       "          [ 2.4410e-03,  9.9979e-01,  2.0357e-02, -1.0292e-04],\n",
       "          [-1.7354e-02, -2.0311e-02,  9.9964e-01,  7.6307e-05],\n",
       "          [ 0.0000e+00,  0.0000e+00,  0.0000e+00,  1.0000e+00]]],\n",
       "        device='cuda:0'),\n",
       " tensor([[ 9.9995e-01,  2.4995e-04,  9.9957e-03,  0.0000e+00],\n",
       "         [ 2.4995e-04,  9.9875e-01, -4.9978e-02,  0.0000e+00],\n",
       "         [-9.9957e-03,  4.9978e-02,  9.9870e-01,  0.0000e+00],\n",
       "         [ 0.0000e+00,  0.0000e+00,  0.0000e+00,  1.0000e+00]], device='cuda:0'))"
      ]
     },
     "execution_count": 21,
     "metadata": {},
     "output_type": "execute_result"
    }
   ],
   "source": [
    "transform_from_params(estimate), gt_T01"
   ]
  },
  {
   "cell_type": "code",
   "execution_count": null,
   "metadata": {},
   "outputs": [],
   "source": []
  }
 ],
 "metadata": {
  "accelerator": "GPU",
  "colab": {
   "provenance": []
  },
  "gpuClass": "premium",
  "kernelspec": {
   "display_name": "Python 3.8.13 ('fyp')",
   "language": "python",
   "name": "python3"
  },
  "language_info": {
   "codemirror_mode": {
    "name": "ipython",
    "version": 3
   },
   "file_extension": ".py",
   "mimetype": "text/x-python",
   "name": "python",
   "nbconvert_exporter": "python",
   "pygments_lexer": "ipython3",
   "version": "3.8.13"
  },
  "vscode": {
   "interpreter": {
    "hash": "92e853dbaceed3088030898fb8081c1c7a38fe0d9e4ab9e36a77882e6958d054"
   }
  },
  "widgets": {
   "application/vnd.jupyter.widget-state+json": {
    "1d5c014d21fb4574a5aec3e75f18ed00": {
     "model_module": "@jupyter-widgets/controls",
     "model_module_version": "1.5.0",
     "model_name": "HBoxModel",
     "state": {
      "_dom_classes": [],
      "_model_module": "@jupyter-widgets/controls",
      "_model_module_version": "1.5.0",
      "_model_name": "HBoxModel",
      "_view_count": null,
      "_view_module": "@jupyter-widgets/controls",
      "_view_module_version": "1.5.0",
      "_view_name": "HBoxView",
      "box_style": "",
      "children": [
       "IPY_MODEL_fff3085ca0db4103b80d560efed224b0",
       "IPY_MODEL_4c4937ce5b0341b3a65c7438c1a37461",
       "IPY_MODEL_bdc21ae4a2fa4e47802cd04008a3770c"
      ],
      "layout": "IPY_MODEL_b2c2847515aa4e169edcc7e3fee7fc84"
     }
    },
    "4c4937ce5b0341b3a65c7438c1a37461": {
     "model_module": "@jupyter-widgets/controls",
     "model_module_version": "1.5.0",
     "model_name": "FloatProgressModel",
     "state": {
      "_dom_classes": [],
      "_model_module": "@jupyter-widgets/controls",
      "_model_module_version": "1.5.0",
      "_model_name": "FloatProgressModel",
      "_view_count": null,
      "_view_module": "@jupyter-widgets/controls",
      "_view_module_version": "1.5.0",
      "_view_name": "ProgressView",
      "bar_style": "success",
      "description": "",
      "description_tooltip": null,
      "layout": "IPY_MODEL_b3d1326b3db045368a6300741e48ffac",
      "max": 553433881,
      "min": 0,
      "orientation": "horizontal",
      "style": "IPY_MODEL_91ec621ffce843658385811c020a337e",
      "value": 553433881
     }
    },
    "6140d51f254b40afbeaee7626f1d51a0": {
     "model_module": "@jupyter-widgets/controls",
     "model_module_version": "1.5.0",
     "model_name": "DescriptionStyleModel",
     "state": {
      "_model_module": "@jupyter-widgets/controls",
      "_model_module_version": "1.5.0",
      "_model_name": "DescriptionStyleModel",
      "_view_count": null,
      "_view_module": "@jupyter-widgets/base",
      "_view_module_version": "1.2.0",
      "_view_name": "StyleView",
      "description_width": ""
     }
    },
    "91ec621ffce843658385811c020a337e": {
     "model_module": "@jupyter-widgets/controls",
     "model_module_version": "1.5.0",
     "model_name": "ProgressStyleModel",
     "state": {
      "_model_module": "@jupyter-widgets/controls",
      "_model_module_version": "1.5.0",
      "_model_name": "ProgressStyleModel",
      "_view_count": null,
      "_view_module": "@jupyter-widgets/base",
      "_view_module_version": "1.2.0",
      "_view_name": "StyleView",
      "bar_color": null,
      "description_width": ""
     }
    },
    "b10a985c510f496380fe12e9e57d03cd": {
     "model_module": "@jupyter-widgets/base",
     "model_module_version": "1.2.0",
     "model_name": "LayoutModel",
     "state": {
      "_model_module": "@jupyter-widgets/base",
      "_model_module_version": "1.2.0",
      "_model_name": "LayoutModel",
      "_view_count": null,
      "_view_module": "@jupyter-widgets/base",
      "_view_module_version": "1.2.0",
      "_view_name": "LayoutView",
      "align_content": null,
      "align_items": null,
      "align_self": null,
      "border": null,
      "bottom": null,
      "display": null,
      "flex": null,
      "flex_flow": null,
      "grid_area": null,
      "grid_auto_columns": null,
      "grid_auto_flow": null,
      "grid_auto_rows": null,
      "grid_column": null,
      "grid_gap": null,
      "grid_row": null,
      "grid_template_areas": null,
      "grid_template_columns": null,
      "grid_template_rows": null,
      "height": null,
      "justify_content": null,
      "justify_items": null,
      "left": null,
      "margin": null,
      "max_height": null,
      "max_width": null,
      "min_height": null,
      "min_width": null,
      "object_fit": null,
      "object_position": null,
      "order": null,
      "overflow": null,
      "overflow_x": null,
      "overflow_y": null,
      "padding": null,
      "right": null,
      "top": null,
      "visibility": null,
      "width": null
     }
    },
    "b2c2847515aa4e169edcc7e3fee7fc84": {
     "model_module": "@jupyter-widgets/base",
     "model_module_version": "1.2.0",
     "model_name": "LayoutModel",
     "state": {
      "_model_module": "@jupyter-widgets/base",
      "_model_module_version": "1.2.0",
      "_model_name": "LayoutModel",
      "_view_count": null,
      "_view_module": "@jupyter-widgets/base",
      "_view_module_version": "1.2.0",
      "_view_name": "LayoutView",
      "align_content": null,
      "align_items": null,
      "align_self": null,
      "border": null,
      "bottom": null,
      "display": null,
      "flex": null,
      "flex_flow": null,
      "grid_area": null,
      "grid_auto_columns": null,
      "grid_auto_flow": null,
      "grid_auto_rows": null,
      "grid_column": null,
      "grid_gap": null,
      "grid_row": null,
      "grid_template_areas": null,
      "grid_template_columns": null,
      "grid_template_rows": null,
      "height": null,
      "justify_content": null,
      "justify_items": null,
      "left": null,
      "margin": null,
      "max_height": null,
      "max_width": null,
      "min_height": null,
      "min_width": null,
      "object_fit": null,
      "object_position": null,
      "order": null,
      "overflow": null,
      "overflow_x": null,
      "overflow_y": null,
      "padding": null,
      "right": null,
      "top": null,
      "visibility": null,
      "width": null
     }
    },
    "b3d1326b3db045368a6300741e48ffac": {
     "model_module": "@jupyter-widgets/base",
     "model_module_version": "1.2.0",
     "model_name": "LayoutModel",
     "state": {
      "_model_module": "@jupyter-widgets/base",
      "_model_module_version": "1.2.0",
      "_model_name": "LayoutModel",
      "_view_count": null,
      "_view_module": "@jupyter-widgets/base",
      "_view_module_version": "1.2.0",
      "_view_name": "LayoutView",
      "align_content": null,
      "align_items": null,
      "align_self": null,
      "border": null,
      "bottom": null,
      "display": null,
      "flex": null,
      "flex_flow": null,
      "grid_area": null,
      "grid_auto_columns": null,
      "grid_auto_flow": null,
      "grid_auto_rows": null,
      "grid_column": null,
      "grid_gap": null,
      "grid_row": null,
      "grid_template_areas": null,
      "grid_template_columns": null,
      "grid_template_rows": null,
      "height": null,
      "justify_content": null,
      "justify_items": null,
      "left": null,
      "margin": null,
      "max_height": null,
      "max_width": null,
      "min_height": null,
      "min_width": null,
      "object_fit": null,
      "object_position": null,
      "order": null,
      "overflow": null,
      "overflow_x": null,
      "overflow_y": null,
      "padding": null,
      "right": null,
      "top": null,
      "visibility": null,
      "width": null
     }
    },
    "bdc21ae4a2fa4e47802cd04008a3770c": {
     "model_module": "@jupyter-widgets/controls",
     "model_module_version": "1.5.0",
     "model_name": "HTMLModel",
     "state": {
      "_dom_classes": [],
      "_model_module": "@jupyter-widgets/controls",
      "_model_module_version": "1.5.0",
      "_model_name": "HTMLModel",
      "_view_count": null,
      "_view_module": "@jupyter-widgets/controls",
      "_view_module_version": "1.5.0",
      "_view_name": "HTMLView",
      "description": "",
      "description_tooltip": null,
      "layout": "IPY_MODEL_b10a985c510f496380fe12e9e57d03cd",
      "placeholder": "​",
      "style": "IPY_MODEL_fee0543333a94d4ba5643cab5b326435",
      "value": " 528M/528M [00:02&lt;00:00, 272MB/s]"
     }
    },
    "f305762a893e4d9ba1449ded5b44ce91": {
     "model_module": "@jupyter-widgets/base",
     "model_module_version": "1.2.0",
     "model_name": "LayoutModel",
     "state": {
      "_model_module": "@jupyter-widgets/base",
      "_model_module_version": "1.2.0",
      "_model_name": "LayoutModel",
      "_view_count": null,
      "_view_module": "@jupyter-widgets/base",
      "_view_module_version": "1.2.0",
      "_view_name": "LayoutView",
      "align_content": null,
      "align_items": null,
      "align_self": null,
      "border": null,
      "bottom": null,
      "display": null,
      "flex": null,
      "flex_flow": null,
      "grid_area": null,
      "grid_auto_columns": null,
      "grid_auto_flow": null,
      "grid_auto_rows": null,
      "grid_column": null,
      "grid_gap": null,
      "grid_row": null,
      "grid_template_areas": null,
      "grid_template_columns": null,
      "grid_template_rows": null,
      "height": null,
      "justify_content": null,
      "justify_items": null,
      "left": null,
      "margin": null,
      "max_height": null,
      "max_width": null,
      "min_height": null,
      "min_width": null,
      "object_fit": null,
      "object_position": null,
      "order": null,
      "overflow": null,
      "overflow_x": null,
      "overflow_y": null,
      "padding": null,
      "right": null,
      "top": null,
      "visibility": null,
      "width": null
     }
    },
    "fee0543333a94d4ba5643cab5b326435": {
     "model_module": "@jupyter-widgets/controls",
     "model_module_version": "1.5.0",
     "model_name": "DescriptionStyleModel",
     "state": {
      "_model_module": "@jupyter-widgets/controls",
      "_model_module_version": "1.5.0",
      "_model_name": "DescriptionStyleModel",
      "_view_count": null,
      "_view_module": "@jupyter-widgets/base",
      "_view_module_version": "1.2.0",
      "_view_name": "StyleView",
      "description_width": ""
     }
    },
    "fff3085ca0db4103b80d560efed224b0": {
     "model_module": "@jupyter-widgets/controls",
     "model_module_version": "1.5.0",
     "model_name": "HTMLModel",
     "state": {
      "_dom_classes": [],
      "_model_module": "@jupyter-widgets/controls",
      "_model_module_version": "1.5.0",
      "_model_name": "HTMLModel",
      "_view_count": null,
      "_view_module": "@jupyter-widgets/controls",
      "_view_module_version": "1.5.0",
      "_view_name": "HTMLView",
      "description": "",
      "description_tooltip": null,
      "layout": "IPY_MODEL_f305762a893e4d9ba1449ded5b44ce91",
      "placeholder": "​",
      "style": "IPY_MODEL_6140d51f254b40afbeaee7626f1d51a0",
      "value": "100%"
     }
    }
   }
  }
 },
 "nbformat": 4,
 "nbformat_minor": 4
}
