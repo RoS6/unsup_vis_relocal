{
 "cells": [
  {
   "cell_type": "markdown",
   "id": "c19b7d0a-2ee9-4b3d-887a-b4e1bacaa912",
   "metadata": {},
   "source": [
    "# Differentiable Gauss-Newton in PyTorch\n",
    "\n",
    "Efficiently and accurately computing the Jacobian and Hessian of a function can be a little tricky.\n",
    "\n",
    "PyTorch now has higher-order function transforms which make it very easy to compute the Jacobian of a function. We can use these to build efficient optimization routines, such as Gauss-Newton and Levenberg-Marquadt, which compute approximations of the Hessian for better informed optimization.\n",
    "\n",
    "In this notebook, I adapt an example from a biology experiment referenced on Wikipedia and test to see if we can achieve the same result. We then go a step further and add a stochastic outer-optimization loop to try to find the optimal step size / damping parameter for this problem.\n",
    "\n",
    "https://en.wikipedia.org/wiki/Gauss–Newton_algorithm#Example"
   ]
  },
  {
   "cell_type": "code",
   "execution_count": 2,
   "id": "6e4a7884-0859-463a-aab9-21f9969f5e84",
   "metadata": {},
   "outputs": [],
   "source": [
    "import torch\n",
    "from functorch import jacfwd, jacrev"
   ]
  },
  {
   "cell_type": "markdown",
   "id": "3c142213-e3a4-4072-b680-1f1c7f8c8fde",
   "metadata": {},
   "source": [
    "First, create our data."
   ]
  },
  {
   "cell_type": "code",
   "execution_count": 5,
   "id": "072b597c",
   "metadata": {},
   "outputs": [],
   "source": [
    "concentration = torch.tensor([0.038, 0.194, 0.425, 0.626, 1.253, 2.5, 3.74])\n",
    "rate = torch.tensor([0.05, 0.127, 0.094, 0.2122, 0.2729, 0.2665, 0.3317])"
   ]
  },
  {
   "cell_type": "markdown",
   "id": "9cad3915-4afa-46af-9ec8-a9f1a09537c3",
   "metadata": {},
   "source": [
    "Define a residual function to evaluate the fitness of our model parameters, $\\beta$"
   ]
  },
  {
   "cell_type": "code",
   "execution_count": 3,
   "id": "499d3d2e-c8f7-4fa9-af91-a1cc714d3082",
   "metadata": {},
   "outputs": [],
   "source": [
    "def residuals(betas):\n",
    "    b1, b2 = betas\n",
    "    return rate - (b1 * concentration) / (b2 + concentration)"
   ]
  },
  {
   "cell_type": "markdown",
   "id": "80ce5b48-407e-4de1-9f33-e03087d48ae8",
   "metadata": {},
   "source": [
    "Our optimizer requires that we are able to compute the Jacobian with respect to the model parameters.\n",
    "\n",
    "We can create this function automatically using function composition. `jacfwd`, takes our `residuals` function and returns a new function which computes the jacobians with respect to the first argument.\n",
    "\n",
    "https://pytorch.org/functorch/stable/generated/functorch.jacrev.html#functorch.jacrev\n",
    "\n",
    "https://pytorch.org/functorch/stable/generated/functorch.jacfwd.html#functorch.jacfwd"
   ]
  },
  {
   "cell_type": "code",
   "execution_count": 4,
   "id": "ab1ff320-f35b-4b95-a5ce-67ac0127d998",
   "metadata": {},
   "outputs": [],
   "source": [
    "# Which is better?\n",
    "# jac_residuals = jacfwd(residuals)\n",
    "jac_residuals = jacrev(residuals)"
   ]
  },
  {
   "cell_type": "markdown",
   "id": "137d437a-b6b7-4ec3-8fbd-53e7bd7f5a99",
   "metadata": {},
   "source": [
    "Below is an extremely simple gauss newton optimization routine, which just runs for a fixed number of iterations.\n",
    "\n",
    "Because the number of iterations is always fixed, we can avoid writing any code that deals with numerical stopping criteria."
   ]
  },
  {
   "cell_type": "code",
   "execution_count": 5,
   "id": "792232c1-4dcb-4b85-9a83-7aaa0ab06d2c",
   "metadata": {},
   "outputs": [],
   "source": [
    "def gauss_newton(x, residuals, jac_residuals, damping=1., iterations=5):\n",
    "    # Unroll a number of iterations of Gauss-Newton.\n",
    "    for i in range(0, iterations):\n",
    "        # Compute the gauss-newton updates.\n",
    "        # We cannot easily backpropagate through computing the Jacobian. However, we don't need to.\n",
    "        # Here, we temporarily disconnect from the computation graph, and then re-attach at each iteration.\n",
    "        with torch.no_grad():\n",
    "            r = residuals(x)\n",
    "            J = jac_residuals(x)\n",
    "            # https://en.wikipedia.org/wiki/Gauss–Newton_algorithm\n",
    "            u = torch.linalg.lstsq(J.T @ J, J.T @ r).solution\n",
    "        # Update x, and in doing so, connect the update step to the computation graph.\n",
    "        # This allows an outer optimization loop to compute the derivative of the loss with respect to the inputs.\n",
    "        x = x - damping * u\n",
    "    return x"
   ]
  },
  {
   "cell_type": "markdown",
   "id": "a64ff815-d2a6-43d7-becd-d54b2e214055",
   "metadata": {},
   "source": [
    "We can now check if our implementation is correct. From Wikipedia:\n",
    "\n",
    "> Starting with the initial estimates of $\\beta_{1}=0.9$ and $\\beta _{2}=0.2$, after five iterations of the Gauss–Newton algorithm, the optimal values $\\hat{\\beta }_{1}=0.362$ and $\\hat{\\beta}_{2}=0.556$ are obtained."
   ]
  },
  {
   "cell_type": "code",
   "execution_count": 6,
   "id": "7f24db88-d3a8-465a-901a-96bd996a4cc0",
   "metadata": {},
   "outputs": [
    {
     "name": "stdout",
     "output_type": "stream",
     "text": [
      "tensor([0.3618, 0.5561])\n"
     ]
    }
   ],
   "source": [
    "# Does our optimized value match wikipedia?\n",
    "betas = torch.tensor([0.9, 0.2])\n",
    "b_hat = gauss_newton(betas, residuals, jac_residuals, damping=1)\n",
    "print(b_hat)"
   ]
  },
  {
   "cell_type": "markdown",
   "id": "038a2a20-bdd4-4381-8016-40c05c1033b7",
   "metadata": {},
   "source": [
    "We can now go a step further and try to optimize the `damping` parameter, because we added some tricks to make the optimization itself end-to-end differentiable.\n",
    "\n",
    "We will do this by running our differentiable optimizer with the same initial guess, and minimizing the residuals after 5 iterations."
   ]
  },
  {
   "cell_type": "code",
   "execution_count": 7,
   "id": "57244fbc-8726-4e89-aa20-01335b9d4f09",
   "metadata": {},
   "outputs": [],
   "source": [
    "from torch.optim import Adam\n",
    "\n",
    "damping = torch.tensor(1.0, requires_grad=True)\n",
    "\n",
    "optimizer = Adam([damping], lr=0.1)\n",
    "\n",
    "loss_history = []\n",
    "for i in range(0, 10):\n",
    "    optimizer.zero_grad()\n",
    "    guess = torch.tensor([0.9, 0.2])\n",
    "    betas = gauss_newton(guess, residuals, jac_residuals, damping=damping, iterations=5)\n",
    "    loss = torch.mean(residuals(betas) ** 2)\n",
    "    loss_history.append(loss.item())\n",
    "    loss.backward()\n",
    "    optimizer.step()"
   ]
  },
  {
   "cell_type": "code",
   "execution_count": 8,
   "id": "d971c4eb-81e3-404f-85bf-89fa9542d331",
   "metadata": {},
   "outputs": [
    {
     "name": "stdout",
     "output_type": "stream",
     "text": [
      "tensor(0.9868, requires_grad=True)\n",
      "tensor([0.3617, 0.5557], grad_fn=<SubBackward0>)\n"
     ]
    }
   ],
   "source": [
    "print(damping)\n",
    "print(betas)"
   ]
  },
  {
   "cell_type": "markdown",
   "id": "16b8b542-8eb8-4431-9ccf-971d1a47b80b",
   "metadata": {},
   "source": [
    "Does an optimized damping parameter improve on the results of our residuals?"
   ]
  },
  {
   "cell_type": "code",
   "execution_count": 480,
   "id": "53da5d76-850f-4f69-b700-5fab5e897464",
   "metadata": {},
   "outputs": [
    {
     "data": {
      "image/png": "[encoded data removed]",
      "text/plain": [
       "<Figure size 640x480 with 1 Axes>"
      ]
     },
     "metadata": {},
     "output_type": "display_data"
    }
   ],
   "source": [
    "import matplotlib.pyplot as plt\n",
    "plt.plot(loss_history)\n",
    "plt.show()"
   ]
  },
  {
   "cell_type": "code",
   "execution_count": 1,
   "id": "7b4a049b-f558-453f-8e26-e7fc09ab7e34",
   "metadata": {},
   "outputs": [],
   "source": []
  },
  {
   "cell_type": "code",
   "execution_count": null,
   "id": "9fdda06d",
   "metadata": {},
   "outputs": [],
   "source": []
  }
 ],
 "metadata": {
  "kernelspec": {
   "display_name": "Python 3.8.13 ('fyp')",
   "language": "python",
   "name": "python3"
  },
  "language_info": {
   "codemirror_mode": {
    "name": "ipython",
    "version": 3
   },
   "file_extension": ".py",
   "mimetype": "text/x-python",
   "name": "python",
   "nbconvert_exporter": "python",
   "pygments_lexer": "ipython3",
   "version": "3.8.13"
  },
  "vscode": {
   "interpreter": {
    "hash": "92e853dbaceed3088030898fb8081c1c7a38fe0d9e4ab9e36a77882e6958d054"
   }
  }
 },
 "nbformat": 4,
 "nbformat_minor": 5
}
